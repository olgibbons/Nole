{
 "cells": [
  {
   "cell_type": "code",
   "execution_count": 1,
   "id": "bb9359d5",
   "metadata": {},
   "outputs": [],
   "source": [
    "import pandas as pd\n",
    "import numpy as np"
   ]
  },
  {
   "cell_type": "code",
   "execution_count": 31,
   "id": "51ad8ba4",
   "metadata": {},
   "outputs": [
    {
     "name": "stderr",
     "output_type": "stream",
     "text": [
      "/tmp/ipykernel_7780/3326912763.py:1: DtypeWarning: Columns (9,17) have mixed types. Specify dtype option on import or set low_memory=False.\n",
      "  data = pd.read_csv('../data/atp_2003_2022.csv', index_col=0)\n"
     ]
    }
   ],
   "source": [
    "data = pd.read_csv('../data/atp_2003_2022.csv', index_col=0)"
   ]
  },
  {
   "cell_type": "code",
   "execution_count": 32,
   "id": "b3236613",
   "metadata": {},
   "outputs": [],
   "source": [
    "ids = pd.read_csv('../data/id_name_df.csv', index_col=0)"
   ]
  },
  {
   "cell_type": "code",
   "execution_count": 33,
   "id": "b8811eb1",
   "metadata": {},
   "outputs": [
    {
     "data": {
      "text/html": [
       "<div>\n",
       "<style scoped>\n",
       "    .dataframe tbody tr th:only-of-type {\n",
       "        vertical-align: middle;\n",
       "    }\n",
       "\n",
       "    .dataframe tbody tr th {\n",
       "        vertical-align: top;\n",
       "    }\n",
       "\n",
       "    .dataframe thead th {\n",
       "        text-align: right;\n",
       "    }\n",
       "</style>\n",
       "<table border=\"1\" class=\"dataframe\">\n",
       "  <thead>\n",
       "    <tr style=\"text-align: right;\">\n",
       "      <th></th>\n",
       "      <th>OpponentId</th>\n",
       "      <th>OpponentName</th>\n",
       "    </tr>\n",
       "  </thead>\n",
       "  <tbody>\n",
       "    <tr>\n",
       "      <th>3</th>\n",
       "      <td>A0E2</td>\n",
       "      <td>carlos-alcaraz</td>\n",
       "    </tr>\n",
       "    <tr>\n",
       "      <th>4</th>\n",
       "      <td>A479</td>\n",
       "      <td>nicolas-almagro</td>\n",
       "    </tr>\n",
       "    <tr>\n",
       "      <th>5</th>\n",
       "      <td>A678</td>\n",
       "      <td>kevin-anderson</td>\n",
       "    </tr>\n",
       "    <tr>\n",
       "      <th>6</th>\n",
       "      <td>A596</td>\n",
       "      <td>pablo-andujar</td>\n",
       "    </tr>\n",
       "    <tr>\n",
       "      <th>7</th>\n",
       "      <td>AG37</td>\n",
       "      <td>felix-auger-aliassime</td>\n",
       "    </tr>\n",
       "  </tbody>\n",
       "</table>\n",
       "</div>"
      ],
      "text/plain": [
       "  OpponentId           OpponentName\n",
       "3       A0E2         carlos-alcaraz\n",
       "4       A479        nicolas-almagro\n",
       "5       A678         kevin-anderson\n",
       "6       A596          pablo-andujar\n",
       "7       AG37  felix-auger-aliassime"
      ]
     },
     "execution_count": 33,
     "metadata": {},
     "output_type": "execute_result"
    }
   ],
   "source": [
    "ids.head()"
   ]
  },
  {
   "cell_type": "code",
   "execution_count": 20,
   "id": "607ae3e6",
   "metadata": {},
   "outputs": [
    {
     "data": {
      "text/plain": [
       "Index(['tourney_id', 'tourney_name', 'surface', 'draw_size', 'tourney_level',\n",
       "       'tourney_date', 'match_num', 'winner_id', 'winner_seed', 'winner_entry',\n",
       "       'winner_name', 'winner_hand', 'winner_ht', 'winner_ioc', 'winner_age',\n",
       "       'loser_id', 'loser_seed', 'loser_entry', 'loser_name', 'loser_hand',\n",
       "       'loser_ht', 'loser_ioc', 'loser_age', 'score', 'best_of', 'round',\n",
       "       'minutes', 'w_ace', 'w_df', 'w_svpt', 'w_1stIn', 'w_1stWon', 'w_2ndWon',\n",
       "       'w_SvGms', 'w_bpSaved', 'w_bpFaced', 'l_ace', 'l_df', 'l_svpt',\n",
       "       'l_1stIn', 'l_1stWon', 'l_2ndWon', 'l_SvGms', 'l_bpSaved', 'l_bpFaced',\n",
       "       'winner_rank', 'winner_rank_points', 'loser_rank', 'loser_rank_points'],\n",
       "      dtype='object')"
      ]
     },
     "execution_count": 20,
     "metadata": {},
     "output_type": "execute_result"
    }
   ],
   "source": [
    "data.columns"
   ]
  },
  {
   "cell_type": "code",
   "execution_count": 37,
   "id": "83010a5d",
   "metadata": {},
   "outputs": [
    {
     "data": {
      "text/plain": [
       "0            Wayne Ferreira\n",
       "1            Thomas Enqvist\n",
       "2       Jan Michael Gambill\n",
       "3              Albert Costa\n",
       "4             Alex Corretja\n",
       "               ...         \n",
       "2152     Aristotelis Thanos\n",
       "2153       Petros Tsitsipas\n",
       "2154     Hong Kit Jack Wong\n",
       "2155           Coleman Wong\n",
       "2156       Sylvestre Monnou\n",
       "Name: winner_name, Length: 58186, dtype: object"
      ]
     },
     "execution_count": 37,
     "metadata": {},
     "output_type": "execute_result"
    }
   ],
   "source": [
    "data['winner_name']"
   ]
  },
  {
   "cell_type": "code",
   "execution_count": 39,
   "id": "614096ca",
   "metadata": {},
   "outputs": [],
   "source": [
    "def filter_by_player(player_name, df):\n",
    "    return df[(df['winner_name']== player_name) | (df['loser_name']== playername)]"
   ]
  },
  {
   "cell_type": "code",
   "execution_count": 47,
   "id": "7607886e",
   "metadata": {},
   "outputs": [],
   "source": [
    "kyrgios_df = data[(data['winner_name']== 'Nick Kyrgios') | (data['loser_name']== 'Nick Kyrgios')]"
   ]
  },
  {
   "cell_type": "code",
   "execution_count": 51,
   "id": "47dda9b6",
   "metadata": {},
   "outputs": [
    {
     "data": {
      "text/plain": [
       "Index(['tourney_id', 'tourney_name', 'surface', 'draw_size', 'tourney_level',\n",
       "       'tourney_date', 'match_num', 'winner_id', 'winner_seed', 'winner_entry',\n",
       "       'winner_name', 'winner_hand', 'winner_ht', 'winner_ioc', 'winner_age',\n",
       "       'loser_id', 'loser_seed', 'loser_entry', 'loser_name', 'loser_hand',\n",
       "       'loser_ht', 'loser_ioc', 'loser_age', 'score', 'best_of', 'round',\n",
       "       'minutes', 'w_ace', 'w_df', 'w_svpt', 'w_1stIn', 'w_1stWon', 'w_2ndWon',\n",
       "       'w_SvGms', 'w_bpSaved', 'w_bpFaced', 'l_ace', 'l_df', 'l_svpt',\n",
       "       'l_1stIn', 'l_1stWon', 'l_2ndWon', 'l_SvGms', 'l_bpSaved', 'l_bpFaced',\n",
       "       'winner_rank', 'winner_rank_points', 'loser_rank', 'loser_rank_points'],\n",
       "      dtype='object')"
      ]
     },
     "execution_count": 51,
     "metadata": {},
     "output_type": "execute_result"
    }
   ],
   "source": [
    "kyrgios_df.columns"
   ]
  },
  {
   "cell_type": "code",
   "execution_count": 58,
   "id": "747f5f19",
   "metadata": {},
   "outputs": [],
   "source": [
    "def create_wins_column(df, name):\n",
    "    df['wins'] = df['winner_name'].apply(lambda x: 1 if x== name else 0)\n",
    "    return df['wins']"
   ]
  },
  {
   "cell_type": "code",
   "execution_count": 59,
   "id": "8c865ab3",
   "metadata": {},
   "outputs": [
    {
     "name": "stderr",
     "output_type": "stream",
     "text": [
      "/tmp/ipykernel_7780/2678287280.py:2: SettingWithCopyWarning: \n",
      "A value is trying to be set on a copy of a slice from a DataFrame.\n",
      "Try using .loc[row_indexer,col_indexer] = value instead\n",
      "\n",
      "See the caveats in the documentation: https://pandas.pydata.org/pandas-docs/stable/user_guide/indexing.html#returning-a-view-versus-a-copy\n",
      "  df['wins'] = df['winner_name'].apply(lambda x: 1 if x== name else 0)\n"
     ]
    },
    {
     "data": {
      "text/plain": [
       "1493    1\n",
       "1530    0\n",
       "2351    0\n",
       "2489    1\n",
       "152     1\n",
       "       ..\n",
       "1945    1\n",
       "1953    1\n",
       "1969    1\n",
       "2010    0\n",
       "2028    1\n",
       "Name: wins, Length: 319, dtype: int64"
      ]
     },
     "execution_count": 59,
     "metadata": {},
     "output_type": "execute_result"
    }
   ],
   "source": [
    "create_wins_column(kyrgios_df, 'Nick Kyrgios')"
   ]
  },
  {
   "cell_type": "code",
   "execution_count": 61,
   "id": "d83118fa",
   "metadata": {},
   "outputs": [
    {
     "data": {
      "text/plain": [
       "1493    Nick Kyrgios\n",
       "1530     Marin Cilic\n",
       "2351    David Ferrer\n",
       "2489    Nick Kyrgios\n",
       "152     Nick Kyrgios\n",
       "            ...     \n",
       "1945    Nick Kyrgios\n",
       "1953    Nick Kyrgios\n",
       "1969    Nick Kyrgios\n",
       "2010    Taylor Fritz\n",
       "2028    Nick Kyrgios\n",
       "Name: winner_name, Length: 319, dtype: object"
      ]
     },
     "execution_count": 61,
     "metadata": {},
     "output_type": "execute_result"
    }
   ],
   "source": []
  },
  {
   "cell_type": "markdown",
   "id": "c4e91fda",
   "metadata": {},
   "source": [
    "## Working out Federer's Stats"
   ]
  },
  {
   "cell_type": "code",
   "execution_count": 65,
   "id": "c794bc74",
   "metadata": {},
   "outputs": [],
   "source": [
    "df = pd.read_csv('../data/df_finalmente.csv')"
   ]
  },
  {
   "cell_type": "code",
   "execution_count": 66,
   "id": "87746734",
   "metadata": {},
   "outputs": [
    {
     "data": {
      "text/html": [
       "<div>\n",
       "<style scoped>\n",
       "    .dataframe tbody tr th:only-of-type {\n",
       "        vertical-align: middle;\n",
       "    }\n",
       "\n",
       "    .dataframe tbody tr th {\n",
       "        vertical-align: top;\n",
       "    }\n",
       "\n",
       "    .dataframe thead th {\n",
       "        text-align: right;\n",
       "    }\n",
       "</style>\n",
       "<table border=\"1\" class=\"dataframe\">\n",
       "  <thead>\n",
       "    <tr style=\"text-align: right;\">\n",
       "      <th></th>\n",
       "      <th>Hard</th>\n",
       "      <th>Clay</th>\n",
       "      <th>Carpet</th>\n",
       "      <th>Grass</th>\n",
       "      <th>best_of</th>\n",
       "      <th>minutes</th>\n",
       "      <th>opponent_name</th>\n",
       "      <th>opp_hand</th>\n",
       "      <th>opp_ht</th>\n",
       "      <th>opp_age</th>\n",
       "      <th>...</th>\n",
       "      <th>djok_ace</th>\n",
       "      <th>djok_df</th>\n",
       "      <th>djok_svpt</th>\n",
       "      <th>djok_1stIn</th>\n",
       "      <th>djok_1stWon</th>\n",
       "      <th>djok_2ndWon</th>\n",
       "      <th>djok_SvGms</th>\n",
       "      <th>djok_bpSaved</th>\n",
       "      <th>djok_bpFaced</th>\n",
       "      <th>Target</th>\n",
       "    </tr>\n",
       "  </thead>\n",
       "  <tbody>\n",
       "    <tr>\n",
       "      <th>0</th>\n",
       "      <td>0.0</td>\n",
       "      <td>1.0</td>\n",
       "      <td>0.0</td>\n",
       "      <td>0.0</td>\n",
       "      <td>0.0</td>\n",
       "      <td>146.0</td>\n",
       "      <td>Arnaud Clement</td>\n",
       "      <td>0.0</td>\n",
       "      <td>173.0</td>\n",
       "      <td>26.7</td>\n",
       "      <td>...</td>\n",
       "      <td>4.0</td>\n",
       "      <td>2.0</td>\n",
       "      <td>91.0</td>\n",
       "      <td>60.0</td>\n",
       "      <td>39.0</td>\n",
       "      <td>19.0</td>\n",
       "      <td>14.0</td>\n",
       "      <td>2.0</td>\n",
       "      <td>5.0</td>\n",
       "      <td>True</td>\n",
       "    </tr>\n",
       "    <tr>\n",
       "      <th>1</th>\n",
       "      <td>1.0</td>\n",
       "      <td>0.0</td>\n",
       "      <td>0.0</td>\n",
       "      <td>0.0</td>\n",
       "      <td>0.0</td>\n",
       "      <td>19.0</td>\n",
       "      <td>Victor Hanescu</td>\n",
       "      <td>0.0</td>\n",
       "      <td>198.0</td>\n",
       "      <td>24.2</td>\n",
       "      <td>...</td>\n",
       "      <td>1.0</td>\n",
       "      <td>1.0</td>\n",
       "      <td>12.0</td>\n",
       "      <td>8.0</td>\n",
       "      <td>6.0</td>\n",
       "      <td>2.0</td>\n",
       "      <td>2.0</td>\n",
       "      <td>0.0</td>\n",
       "      <td>0.0</td>\n",
       "      <td>True</td>\n",
       "    </tr>\n",
       "    <tr>\n",
       "      <th>2</th>\n",
       "      <td>1.0</td>\n",
       "      <td>0.0</td>\n",
       "      <td>0.0</td>\n",
       "      <td>0.0</td>\n",
       "      <td>0.0</td>\n",
       "      <td>105.0</td>\n",
       "      <td>Mariano Puerta</td>\n",
       "      <td>1.0</td>\n",
       "      <td>180.0</td>\n",
       "      <td>27.1</td>\n",
       "      <td>...</td>\n",
       "      <td>12.0</td>\n",
       "      <td>2.0</td>\n",
       "      <td>82.0</td>\n",
       "      <td>51.0</td>\n",
       "      <td>38.0</td>\n",
       "      <td>19.0</td>\n",
       "      <td>11.0</td>\n",
       "      <td>4.0</td>\n",
       "      <td>5.0</td>\n",
       "      <td>True</td>\n",
       "    </tr>\n",
       "    <tr>\n",
       "      <th>3</th>\n",
       "      <td>1.0</td>\n",
       "      <td>0.0</td>\n",
       "      <td>0.0</td>\n",
       "      <td>0.0</td>\n",
       "      <td>0.0</td>\n",
       "      <td>105.0</td>\n",
       "      <td>Ricardo Mello</td>\n",
       "      <td>1.0</td>\n",
       "      <td>175.0</td>\n",
       "      <td>24.8</td>\n",
       "      <td>...</td>\n",
       "      <td>4.0</td>\n",
       "      <td>3.0</td>\n",
       "      <td>80.0</td>\n",
       "      <td>51.0</td>\n",
       "      <td>37.0</td>\n",
       "      <td>12.0</td>\n",
       "      <td>11.0</td>\n",
       "      <td>5.0</td>\n",
       "      <td>7.0</td>\n",
       "      <td>True</td>\n",
       "    </tr>\n",
       "    <tr>\n",
       "      <th>4</th>\n",
       "      <td>0.0</td>\n",
       "      <td>1.0</td>\n",
       "      <td>0.0</td>\n",
       "      <td>0.0</td>\n",
       "      <td>0.0</td>\n",
       "      <td>63.0</td>\n",
       "      <td>Alex Calatrava</td>\n",
       "      <td>0.0</td>\n",
       "      <td>190.0</td>\n",
       "      <td>32.1</td>\n",
       "      <td>...</td>\n",
       "      <td>1.0</td>\n",
       "      <td>0.0</td>\n",
       "      <td>52.0</td>\n",
       "      <td>36.0</td>\n",
       "      <td>26.0</td>\n",
       "      <td>13.0</td>\n",
       "      <td>9.0</td>\n",
       "      <td>4.0</td>\n",
       "      <td>4.0</td>\n",
       "      <td>True</td>\n",
       "    </tr>\n",
       "  </tbody>\n",
       "</table>\n",
       "<p>5 rows × 33 columns</p>\n",
       "</div>"
      ],
      "text/plain": [
       "   Hard  Clay  Carpet  Grass  best_of  minutes   opponent_name  opp_hand  \\\n",
       "0   0.0   1.0     0.0    0.0      0.0    146.0  Arnaud Clement       0.0   \n",
       "1   1.0   0.0     0.0    0.0      0.0     19.0  Victor Hanescu       0.0   \n",
       "2   1.0   0.0     0.0    0.0      0.0    105.0  Mariano Puerta       1.0   \n",
       "3   1.0   0.0     0.0    0.0      0.0    105.0   Ricardo Mello       1.0   \n",
       "4   0.0   1.0     0.0    0.0      0.0     63.0  Alex Calatrava       0.0   \n",
       "\n",
       "   opp_ht  opp_age  ...  djok_ace  djok_df  djok_svpt  djok_1stIn  \\\n",
       "0   173.0     26.7  ...       4.0      2.0       91.0        60.0   \n",
       "1   198.0     24.2  ...       1.0      1.0       12.0         8.0   \n",
       "2   180.0     27.1  ...      12.0      2.0       82.0        51.0   \n",
       "3   175.0     24.8  ...       4.0      3.0       80.0        51.0   \n",
       "4   190.0     32.1  ...       1.0      0.0       52.0        36.0   \n",
       "\n",
       "   djok_1stWon  djok_2ndWon  djok_SvGms  djok_bpSaved  djok_bpFaced Target  \n",
       "0         39.0         19.0        14.0           2.0           5.0   True  \n",
       "1          6.0          2.0         2.0           0.0           0.0   True  \n",
       "2         38.0         19.0        11.0           4.0           5.0   True  \n",
       "3         37.0         12.0        11.0           5.0           7.0   True  \n",
       "4         26.0         13.0         9.0           4.0           4.0   True  \n",
       "\n",
       "[5 rows x 33 columns]"
      ]
     },
     "execution_count": 66,
     "metadata": {},
     "output_type": "execute_result"
    }
   ],
   "source": [
    "df.head()"
   ]
  },
  {
   "cell_type": "code",
   "execution_count": 68,
   "id": "b6e41191",
   "metadata": {},
   "outputs": [],
   "source": [
    "fed_df = df[df['opponent_name']== 'Roger Federer']"
   ]
  },
  {
   "cell_type": "code",
   "execution_count": 70,
   "id": "1e9ffcad",
   "metadata": {},
   "outputs": [
    {
     "data": {
      "text/plain": [
       "Index(['Hard', 'Clay', 'Carpet', 'Grass', 'best_of', 'minutes',\n",
       "       'opponent_name', 'opp_hand', 'opp_ht', 'opp_age', 'opp_ace', 'opp_df',\n",
       "       'opp_svpt', 'opp_1stIn', 'opp_1stWon', 'opp_2ndWon', 'opp_SvGms',\n",
       "       'opp_bpSaved', 'opp_bpFaced', 'DJOK', 'djok_hand', 'djok_ht',\n",
       "       'djok_age', 'djok_ace', 'djok_df', 'djok_svpt', 'djok_1stIn',\n",
       "       'djok_1stWon', 'djok_2ndWon', 'djok_SvGms', 'djok_bpSaved',\n",
       "       'djok_bpFaced', 'Target'],\n",
       "      dtype='object')"
      ]
     },
     "execution_count": 70,
     "metadata": {},
     "output_type": "execute_result"
    }
   ],
   "source": [
    "fed_df.columns"
   ]
  },
  {
   "cell_type": "code",
   "execution_count": 74,
   "id": "91195c53",
   "metadata": {},
   "outputs": [],
   "source": [
    "fed2_ace = pd.DataFrame()"
   ]
  },
  {
   "cell_type": "code",
   "execution_count": 77,
   "id": "8765720b",
   "metadata": {},
   "outputs": [
    {
     "data": {
      "text/plain": [
       "ace_perc    9.884139\n",
       "dtype: float64"
      ]
     },
     "execution_count": 77,
     "metadata": {},
     "output_type": "execute_result"
    }
   ],
   "source": [
    "fed2_ace['ace_perc'] = fed_df['opp_ace']*100/(fed_df['opp_svpt'] - fed_df['opp_df'])\n",
    "fed2_ace.mean()"
   ]
  },
  {
   "cell_type": "code",
   "execution_count": 78,
   "id": "ad8308b5",
   "metadata": {},
   "outputs": [],
   "source": [
    "fed2_ace['ace_perc'] = fed_df['opp_ace']*100/(fed_df['opp_1stIn'])"
   ]
  },
  {
   "cell_type": "code",
   "execution_count": 80,
   "id": "4effbb14",
   "metadata": {},
   "outputs": [
    {
     "data": {
      "text/plain": [
       "ace_perc    15.580151\n",
       "dtype: float64"
      ]
     },
     "execution_count": 80,
     "metadata": {},
     "output_type": "execute_result"
    }
   ],
   "source": [
    "fed2_ace.mean()"
   ]
  },
  {
   "cell_type": "code",
   "execution_count": 88,
   "id": "5d455bf4",
   "metadata": {},
   "outputs": [],
   "source": [
    "    fed2_ace['1stin'] = fed_df['opp_bpSaved']/(fed_df['opp_bpFaced'])"
   ]
  },
  {
   "cell_type": "code",
   "execution_count": 89,
   "id": "359071e9",
   "metadata": {},
   "outputs": [
    {
     "data": {
      "text/plain": [
       "ace_perc    15.580151\n",
       "1stin        0.612130\n",
       "dtype: float64"
      ]
     },
     "execution_count": 89,
     "metadata": {},
     "output_type": "execute_result"
    }
   ],
   "source": [
    "fed2_ace.mean()"
   ]
  },
  {
   "cell_type": "code",
   "execution_count": 91,
   "id": "3cfc9d0a",
   "metadata": {},
   "outputs": [
    {
     "data": {
      "text/plain": [
       "Hard             48\n",
       "Clay             48\n",
       "Carpet           48\n",
       "Grass            48\n",
       "best_of          48\n",
       "minutes          48\n",
       "opponent_name    48\n",
       "opp_hand         48\n",
       "opp_ht           48\n",
       "opp_age          48\n",
       "opp_ace          48\n",
       "opp_df           48\n",
       "opp_svpt         48\n",
       "opp_1stIn        48\n",
       "opp_1stWon       48\n",
       "opp_2ndWon       48\n",
       "opp_SvGms        48\n",
       "opp_bpSaved      48\n",
       "opp_bpFaced      48\n",
       "DJOK             48\n",
       "djok_hand        48\n",
       "djok_ht          48\n",
       "djok_age         48\n",
       "djok_ace         48\n",
       "djok_df          48\n",
       "djok_svpt        48\n",
       "djok_1stIn       48\n",
       "djok_1stWon      48\n",
       "djok_2ndWon      48\n",
       "djok_SvGms       48\n",
       "djok_bpSaved     48\n",
       "djok_bpFaced     48\n",
       "Target           48\n",
       "ace_perc         48\n",
       "dtype: int64"
      ]
     },
     "execution_count": 91,
     "metadata": {},
     "output_type": "execute_result"
    }
   ],
   "source": [
    "fed_df.count()"
   ]
  },
  {
   "cell_type": "code",
   "execution_count": null,
   "id": "33e8bfc4",
   "metadata": {},
   "outputs": [],
   "source": []
  }
 ],
 "metadata": {
  "kernelspec": {
   "display_name": "Python 3 (ipykernel)",
   "language": "python",
   "name": "python3"
  },
  "language_info": {
   "codemirror_mode": {
    "name": "ipython",
    "version": 3
   },
   "file_extension": ".py",
   "mimetype": "text/x-python",
   "name": "python",
   "nbconvert_exporter": "python",
   "pygments_lexer": "ipython3",
   "version": "3.8.12"
  },
  "toc": {
   "base_numbering": 1,
   "nav_menu": {},
   "number_sections": true,
   "sideBar": true,
   "skip_h1_title": false,
   "title_cell": "Table of Contents",
   "title_sidebar": "Contents",
   "toc_cell": false,
   "toc_position": {},
   "toc_section_display": true,
   "toc_window_display": false
  }
 },
 "nbformat": 4,
 "nbformat_minor": 5
}
